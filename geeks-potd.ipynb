{
 "cells": [
  {
   "cell_type": "code",
   "execution_count": 31,
   "id": "66667304",
   "metadata": {},
   "outputs": [
    {
     "data": {
      "text/plain": [
       "55"
      ]
     },
     "execution_count": 31,
     "metadata": {},
     "output_type": "execute_result"
    }
   ],
   "source": [
    "def fibo(i=20):\n",
    "    if i == 0:\n",
    "        return 0\n",
    "    if i == 1:\n",
    "        return 1\n",
    "    return fibo(i-1)+fibo(i-2)\n",
    "\n",
    "fibo(10)"
   ]
  },
  {
   "cell_type": "code",
   "execution_count": 56,
   "id": "53b65600",
   "metadata": {},
   "outputs": [
    {
     "name": "stdout",
     "output_type": "stream",
     "text": [
      "11 3 19 N 9 14 22 4 N 12 15 21 23 N N N N N N 20 N N N N N\n",
      "1\n",
      "3\n",
      "11\n",
      "rvisited 11\n",
      "12\n",
      "14\n",
      "rvisited 14\n",
      "15\n",
      "19\n",
      "rvisited 19\n",
      "20\n",
      "21\n",
      "22\n",
      "rvisited 22\n",
      "23\n",
      "-1 22 \n"
     ]
    }
   ],
   "source": [
    "'''\n",
    "class Node:\n",
    "    def __init__(self, key):\n",
    "        self.key = key\n",
    "        self.left = None\n",
    "        self.right = None\n",
    "'''\n",
    "\n",
    "\n",
    "# This function finds predecessor and successor of key in BST.\n",
    "# It sets pre and suc as predecessor and successor respectively\n",
    "class Solution:\n",
    "    def findPreSuc(self, root, pre, suc, key):\n",
    "        self.pre = pre\n",
    "        self.suc = suc\n",
    "        if not root:\n",
    "            return\n",
    "        self.findPreSuc(root.left, self.pre, self.suc, key)\n",
    "        print(root.key)\n",
    "        if root.right == None or root.left == None:\n",
    "            return self.pre, self.suc\n",
    "        if root.key < key:\n",
    "            print('lvisited', root.key)\n",
    "            self.pre = root\n",
    "        if root.key > key:\n",
    "            print('rvisited',root.key)\n",
    "            self.suc = root\n",
    "        self.findPreSuc(root.right, self.pre, self.suc, key)\n",
    "        return self.pre, self.suc\n",
    "\n",
    "#{ \n",
    " # Driver Code Starts\n",
    "import queue\n",
    "\n",
    "# BST Node\n",
    "class Node:\n",
    "    def __init__(self, key):\n",
    "        self.key = key\n",
    "        self.left = None\n",
    "        self.right = None\n",
    "\n",
    "\n",
    "def buildTree(ip):\n",
    "    # Corner Case\n",
    "    if len(ip) == 0 or ip[0] == 'N':\n",
    "        return None\n",
    "\n",
    "    # Create the root of the tree\n",
    "    root = Node(int(ip[0]))\n",
    "\n",
    "    # Push the root to the queue\n",
    "    q = queue.Queue()\n",
    "    q.put(root)\n",
    "\n",
    "    # Starting from the second element\n",
    "    i = 1\n",
    "    while not q.empty() and i < len(ip):\n",
    "        # Get and remove the front of the queue\n",
    "        currNode = q.get()\n",
    "\n",
    "        # Get the current node's value from the string\n",
    "        currVal = ip[i]\n",
    "\n",
    "        # If the left child is not null\n",
    "        if currVal != \"N\":\n",
    "            # Create the left child for the current node\n",
    "            currNode.left = Node(int(currVal))\n",
    "\n",
    "            # Push it to the queue\n",
    "            q.put(currNode.left)\n",
    "\n",
    "        # For the right child\n",
    "        i += 1\n",
    "        if i >= len(ip):\n",
    "            break\n",
    "        currVal = ip[i]\n",
    "\n",
    "        # If the right child is not null\n",
    "        if currVal != \"N\":\n",
    "            # Create the right child for the current node\n",
    "            currNode.right = Node(int(currVal))\n",
    "\n",
    "            # Push it to the queue\n",
    "            q.put(currNode.right)\n",
    "\n",
    "        i += 1\n",
    "\n",
    "    return root\n",
    "\n",
    "\n",
    "# Driver program to test above functions\n",
    "# t = int(input())\n",
    "# for _ in range(t):\n",
    "s = input()\n",
    "root = buildTree(s.split())\n",
    "k = int(input())\n",
    "pre = None\n",
    "succ = None\n",
    "ob = Solution()\n",
    "pre, succ = ob.findPreSuc(root, pre, succ, k)\n",
    "if pre:\n",
    "    print(pre.key, end=' ')\n",
    "else:\n",
    "    print(-1, end=' ')\n",
    "if succ:\n",
    "    print(succ.key, end=' ')\n",
    "else:\n",
    "    print(-1, end=' ')\n",
    "print()\n",
    "\n",
    "# } Driver Code Ends"
   ]
  },
  {
   "cell_type": "code",
   "execution_count": 5,
   "id": "5b1517a4",
   "metadata": {},
   "outputs": [
    {
     "name": "stdout",
     "output_type": "stream",
     "text": [
      "[(1, 2, 5), (1, 3, 4), (1, 7), (2, 6), (3, 5), (8,)]\n"
     ]
    }
   ],
   "source": [
    "import itertools\n",
    "\n",
    "numbers = [1,2,3,4,5,6,7,8]\n",
    "target = 8\n",
    "\n",
    "result = [seq for i in range(len(numbers), 0, -1)\n",
    "          for seq in itertools.combinations(numbers, i)\n",
    "          if sum(seq) == target]\n",
    "\n",
    "print(result)"
   ]
  },
  {
   "cell_type": "code",
   "execution_count": 36,
   "id": "601973b2",
   "metadata": {},
   "outputs": [
    {
     "name": "stdout",
     "output_type": "stream",
     "text": [
      "7 7 \n",
      "703 124 364 481 383 680 564\n",
      "703 680 564 481 383 364 124 \n"
     ]
    }
   ],
   "source": [
    "class Solution:\n",
    "\n",
    "    def kLargest(self,arr, n, k):\n",
    "        k_large = []\n",
    "        arr.sort(reverse=True)\n",
    "        arr = arr[:k]\n",
    "        return arr\n",
    "\n",
    "if __name__ == '__main__':\n",
    "    n, k = list(map(int, input().strip().split()))\n",
    "    arr = list(map(int, input().strip().split()))\n",
    "    ob = Solution()\n",
    "    ans = ob.kLargest(arr, n, k)\n",
    "    for x in ans:\n",
    "        print(x, end=\" \")\n",
    "    print()\n"
   ]
  },
  {
   "cell_type": "code",
   "execution_count": 18,
   "id": "6645fef9",
   "metadata": {},
   "outputs": [
    {
     "name": "stdout",
     "output_type": "stream",
     "text": [
      "3 5 3\n",
      "2 4 4\n",
      "7\n",
      "None\n"
     ]
    }
   ],
   "source": [
    "#User function Template for python3\n",
    "\n",
    "class Solution:\n",
    "    def kthSmallest(self,arr, l, r, k):\n",
    "        '''\n",
    "        arr : given array\n",
    "        l : starting index of the array i.e 0\n",
    "        r : ending index of the array i.e size-1\n",
    "        k : find kth smallest element and return using this function\n",
    "        '''\n",
    "        i = 0\n",
    "        small = float('inf')\n",
    "        while i < len(arr):\n",
    "            if arr[i] < small:\n",
    "                small = arr[i]\n",
    "            if i == len(arr) - 1 and k-1 > 0:\n",
    "                print(k, i, small)\n",
    "                k -= 1\n",
    "                i = 0\n",
    "                arr.remove(small)\n",
    "                small = float('inf')\n",
    "                continue\n",
    "            i += 1\n",
    "        print(small)\n",
    "\n",
    "\n",
    "#{ \n",
    " # Driver Code Starts\n",
    "#Initial Template for Python 3\n",
    "\n",
    "#contributed by RavinderSinghPB\n",
    "if __name__ == '__main__': \n",
    "    n= 7 \n",
    "    #int(input())\n",
    "    arr = [7,10,4,3,20,15]\n",
    "    #map(int,input().strip().split()))\n",
    "    k=3\n",
    "    #int(input())\n",
    "    ob=Solution()\n",
    "    print(ob.kthSmallest(arr, 0, n-1, k))\n",
    "        \n",
    "# } Driver Code Ends"
   ]
  },
  {
   "cell_type": "code",
   "execution_count": 26,
   "id": "7aef0944",
   "metadata": {},
   "outputs": [
    {
     "name": "stdout",
     "output_type": "stream",
     "text": [
      "15\n"
     ]
    }
   ],
   "source": [
    "k = 4\n",
    "for i in set([7,10,4,20,15]):\n",
    "    k -= 1\n",
    "    if not k:\n",
    "        print(i)\n",
    "        break"
   ]
  },
  {
   "cell_type": "code",
   "execution_count": null,
   "id": "b6a8dc72",
   "metadata": {},
   "outputs": [],
   "source": [
    "#User function Template for python3\n",
    "\n",
    "class Solution:\n",
    "    \n",
    "    #Function to find the smallest positive number missing from the array.\n",
    "    def missingNumber(self,arr,n):\n",
    "        smallest = None\n",
    "        for i in range(n):\n",
    "            if (smallest == None or arr[i] < smallest) and arr[i] > 0:\n",
    "                smallest = arr[i]\n",
    "                \n",
    "            if (smallest + 1 == arr[i]) and smallest == None:\n",
    "                smallest = arr[i] + 1\n",
    "            \n",
    "        if smallest == None:\n",
    "            return 1\n",
    "        else: \n",
    "            return smallest\n",
    "#{ \n",
    " # Driver Code Starts\n",
    "#Initial Template for Python 3\n",
    "\n",
    "\n",
    "import math\n",
    "\n",
    "\n",
    "def main():\n",
    "        T=int(input())\n",
    "        while(T>0):\n",
    "            \n",
    "            n=int(input())\n",
    "            \n",
    "            arr=[int(x) for x in input().strip().split()]\n",
    "            \n",
    "            ob=Solution()\n",
    "            print(ob.missingNumber(arr,n))\n",
    "            \n",
    "            T-=1\n",
    "\n",
    "\n",
    "if __name__ == \"__main__\":\n",
    "    main()\n",
    "# } Driver Code Ends"
   ]
  }
 ],
 "metadata": {
  "kernelspec": {
   "display_name": "Python 3 (ipykernel)",
   "language": "python",
   "name": "python3"
  },
  "language_info": {
   "codemirror_mode": {
    "name": "ipython",
    "version": 3
   },
   "file_extension": ".py",
   "mimetype": "text/x-python",
   "name": "python",
   "nbconvert_exporter": "python",
   "pygments_lexer": "ipython3",
   "version": "3.9.15"
  }
 },
 "nbformat": 4,
 "nbformat_minor": 5
}
