{
 "cells": [
  {
   "cell_type": "code",
   "execution_count": 31,
   "id": "66667304",
   "metadata": {},
   "outputs": [
    {
     "data": {
      "text/plain": [
       "55"
      ]
     },
     "execution_count": 31,
     "metadata": {},
     "output_type": "execute_result"
    }
   ],
   "source": [
    "def fibo(i=20):\n",
    "    if i == 0:\n",
    "        return 0\n",
    "    if i == 1:\n",
    "        return 1\n",
    "    return fibo(i-1)+fibo(i-2)\n",
    "\n",
    "fibo(10)"
   ]
  },
  {
   "cell_type": "code",
   "execution_count": 56,
   "id": "53b65600",
   "metadata": {},
   "outputs": [
    {
     "name": "stdout",
     "output_type": "stream",
     "text": [
      "11 3 19 N 9 14 22 4 N 12 15 21 23 N N N N N N 20 N N N N N\n",
      "1\n",
      "3\n",
      "11\n",
      "rvisited 11\n",
      "12\n",
      "14\n",
      "rvisited 14\n",
      "15\n",
      "19\n",
      "rvisited 19\n",
      "20\n",
      "21\n",
      "22\n",
      "rvisited 22\n",
      "23\n",
      "-1 22 \n"
     ]
    }
   ],
   "source": [
    "'''\n",
    "class Node:\n",
    "    def __init__(self, key):\n",
    "        self.key = key\n",
    "        self.left = None\n",
    "        self.right = None\n",
    "'''\n",
    "\n",
    "\n",
    "# This function finds predecessor and successor of key in BST.\n",
    "# It sets pre and suc as predecessor and successor respectively\n",
    "class Solution:\n",
    "    def findPreSuc(self, root, pre, suc, key):\n",
    "        self.pre = pre\n",
    "        self.suc = suc\n",
    "        if not root:\n",
    "            return\n",
    "        self.findPreSuc(root.left, self.pre, self.suc, key)\n",
    "        print(root.key)\n",
    "        if root.right == None or root.left == None:\n",
    "            return self.pre, self.suc\n",
    "        if root.key < key:\n",
    "            print('lvisited', root.key)\n",
    "            self.pre = root\n",
    "        if root.key > key:\n",
    "            print('rvisited',root.key)\n",
    "            self.suc = root\n",
    "        self.findPreSuc(root.right, self.pre, self.suc, key)\n",
    "        return self.pre, self.suc\n",
    "\n",
    "#{ \n",
    " # Driver Code Starts\n",
    "import queue\n",
    "\n",
    "# BST Node\n",
    "class Node:\n",
    "    def __init__(self, key):\n",
    "        self.key = key\n",
    "        self.left = None\n",
    "        self.right = None\n",
    "\n",
    "\n",
    "def buildTree(ip):\n",
    "    # Corner Case\n",
    "    if len(ip) == 0 or ip[0] == 'N':\n",
    "        return None\n",
    "\n",
    "    # Create the root of the tree\n",
    "    root = Node(int(ip[0]))\n",
    "\n",
    "    # Push the root to the queue\n",
    "    q = queue.Queue()\n",
    "    q.put(root)\n",
    "\n",
    "    # Starting from the second element\n",
    "    i = 1\n",
    "    while not q.empty() and i < len(ip):\n",
    "        # Get and remove the front of the queue\n",
    "        currNode = q.get()\n",
    "\n",
    "        # Get the current node's value from the string\n",
    "        currVal = ip[i]\n",
    "\n",
    "        # If the left child is not null\n",
    "        if currVal != \"N\":\n",
    "            # Create the left child for the current node\n",
    "            currNode.left = Node(int(currVal))\n",
    "\n",
    "            # Push it to the queue\n",
    "            q.put(currNode.left)\n",
    "\n",
    "        # For the right child\n",
    "        i += 1\n",
    "        if i >= len(ip):\n",
    "            break\n",
    "        currVal = ip[i]\n",
    "\n",
    "        # If the right child is not null\n",
    "        if currVal != \"N\":\n",
    "            # Create the right child for the current node\n",
    "            currNode.right = Node(int(currVal))\n",
    "\n",
    "            # Push it to the queue\n",
    "            q.put(currNode.right)\n",
    "\n",
    "        i += 1\n",
    "\n",
    "    return root\n",
    "\n",
    "\n",
    "# Driver program to test above functions\n",
    "# t = int(input())\n",
    "# for _ in range(t):\n",
    "s = input()\n",
    "root = buildTree(s.split())\n",
    "k = int(input())\n",
    "pre = None\n",
    "succ = None\n",
    "ob = Solution()\n",
    "pre, succ = ob.findPreSuc(root, pre, succ, k)\n",
    "if pre:\n",
    "    print(pre.key, end=' ')\n",
    "else:\n",
    "    print(-1, end=' ')\n",
    "if succ:\n",
    "    print(succ.key, end=' ')\n",
    "else:\n",
    "    print(-1, end=' ')\n",
    "print()\n",
    "\n",
    "# } Driver Code Ends"
   ]
  },
  {
   "cell_type": "code",
   "execution_count": 36,
   "id": "5b1517a4",
   "metadata": {},
   "outputs": [
    {
     "name": "stdout",
     "output_type": "stream",
     "text": [
      "11 3 19 N 9 14 22 4 N 12 15 21 23 N N N N N N 20 N N N N N\n",
      "1\n",
      "-1 3 \n"
     ]
    }
   ],
   "source": []
  }
 ],
 "metadata": {
  "kernelspec": {
   "display_name": "Python 3 (ipykernel)",
   "language": "python",
   "name": "python3"
  },
  "language_info": {
   "codemirror_mode": {
    "name": "ipython",
    "version": 3
   },
   "file_extension": ".py",
   "mimetype": "text/x-python",
   "name": "python",
   "nbconvert_exporter": "python",
   "pygments_lexer": "ipython3",
   "version": "3.9.15"
  }
 },
 "nbformat": 4,
 "nbformat_minor": 5
}
