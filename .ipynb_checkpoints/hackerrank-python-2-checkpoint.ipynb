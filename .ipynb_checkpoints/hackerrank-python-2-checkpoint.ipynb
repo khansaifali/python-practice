{
 "cells": [
  {
   "cell_type": "code",
   "execution_count": 17,
   "id": "f14c2f07",
   "metadata": {},
   "outputs": [
    {
     "name": "stdout",
     "output_type": "stream",
     "text": [
      "669696211\n",
      "815352670\n",
      "523615865\n",
      "126\n"
     ]
    }
   ],
   "source": [
    "def find_last_max(a, m):\n",
    "    last_max = float('-inf')\n",
    "    i = len(a)-1\n",
    "    while ( last_max > m or last_max == float('-inf') ) and i > 0:\n",
    "        if (a[i] < m and a[i] > last_max) or last_max == float('-inf'):\n",
    "            last_max = a[i]\n",
    "        i = i - 1\n",
    "    return last_max if last_max != float('-inf') else a[len(a)-1]\n",
    "        \n",
    "if __name__ == '__main__':\n",
    "    k, m = 3, 998\n",
    "    #map(int, (input()).split())\n",
    "    choices = [\n",
    "        [67828645, 425092764, 242723908, 669696211, 501122842, 438815206],\n",
    "        [625649397, 295060482, 262686951, 815352670],\n",
    "        [100876777, 196900030, 523615865]\n",
    "    ]\n",
    "    numbers = list()\n",
    "    for i in range(k):\n",
    "        choices[i] = list(map(lambda x: int(x)**2, choices[i]))\n",
    "                          \n",
    "    for a in choices:\n",
    "        a.sort()\n",
    "        picked_one = find_last_max(a, m)\n",
    "        print(picked_one)\n",
    "        if picked_one + sum(numbers) > m:\n",
    "            index = a.index(picked_one)\n",
    "            if index > 0:\n",
    "                picked_one = a[index] \n",
    "        numbers.append(picked_one)\n",
    "    numbers = sum(numbers) % m\n",
    "    print(numbers)\n"
   ]
  },
  {
   "cell_type": "code",
   "execution_count": 6,
   "id": "5c280903",
   "metadata": {},
   "outputs": [
    {
     "data": {
      "text/plain": [
       "624"
      ]
     },
     "execution_count": 6,
     "metadata": {},
     "output_type": "execute_result"
    }
   ],
   "source": [
    "# 3 998\n",
    "# 6 67828645 425092764 242723908 669696211 501122842 438815206\n",
    "# 4 625649397 295060482 262686951 815352670\n",
    "# 3 100876777 196900030 523615865\n",
    "\n",
    "((669696211**2)+(815352670**2)+(523615865**2))%998"
   ]
  }
 ],
 "metadata": {
  "kernelspec": {
   "display_name": "Python 3 (ipykernel)",
   "language": "python",
   "name": "python3"
  },
  "language_info": {
   "codemirror_mode": {
    "name": "ipython",
    "version": 3
   },
   "file_extension": ".py",
   "mimetype": "text/x-python",
   "name": "python",
   "nbconvert_exporter": "python",
   "pygments_lexer": "ipython3",
   "version": "3.9.15"
  }
 },
 "nbformat": 4,
 "nbformat_minor": 5
}
