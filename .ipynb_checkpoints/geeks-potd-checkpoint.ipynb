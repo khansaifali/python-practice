{
 "cells": [
  {
   "cell_type": "code",
   "execution_count": null,
   "id": "b02b2dd6",
   "metadata": {},
   "outputs": [],
   "source": [
    "class Solution:\n",
    "    def kthPermutation(self, n : int, k : int) -> str:\n",
    "        numbers = range(1, n+1)\n",
    "        numbers = myPermutation(numbers)\n",
    "        for i,v in enumerate(numbers):\n",
    "            if i+1 == k:\n",
    "                v = list(v)\n",
    "                v = list(map(str, v))\n",
    "                return ''.join(v)\n",
    "    \n",
    "    def myPermutation(l):\n",
    "        1\n",
    "\n",
    "if __name__==\"__main__\":\n",
    "    N, K = map(int, input().split())\n",
    "    obj = Solution()\n",
    "    res = obj.kthPermutation(N, K)\n",
    "    print(res)"
   ]
  },
  {
   "cell_type": "code",
   "execution_count": null,
   "id": "939a5533",
   "metadata": {},
   "outputs": [],
   "source": []
  }
 ],
 "metadata": {
  "kernelspec": {
   "display_name": "Python 3 (ipykernel)",
   "language": "python",
   "name": "python3"
  },
  "language_info": {
   "codemirror_mode": {
    "name": "ipython",
    "version": 3
   },
   "file_extension": ".py",
   "mimetype": "text/x-python",
   "name": "python",
   "nbconvert_exporter": "python",
   "pygments_lexer": "ipython3",
   "version": "3.9.15"
  }
 },
 "nbformat": 4,
 "nbformat_minor": 5
}
