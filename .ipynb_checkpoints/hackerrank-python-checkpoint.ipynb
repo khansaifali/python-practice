{
 "cells": [
  {
   "cell_type": "code",
   "execution_count": null,
   "id": "3c4fea4b",
   "metadata": {},
   "outputs": [],
   "source": [
    "if __name__ == '__main__':\n",
    "    N = int(input())\n",
    "    commands = list()\n",
    "#     for i in range(N):\n",
    "    commands = list(str(input()).split('-'))\n",
    "    \n",
    "    primary = []\n",
    "    for i in range(N):\n",
    "        command = commands[i]\n",
    "        command = command.split(' ')\n",
    "        word = command[0]\n",
    "        if word == 'insert':\n",
    "            primary.insert( int(command[1]), int(command[2]) )\n",
    "        if word == 'print':\n",
    "            print(primary)\n",
    "        elif word == 'remove':\n",
    "            primary.remove(int(command[1]))\n",
    "        elif word == 'append':\n",
    "            primary.append(int(command[1]))\n",
    "        elif word == 'sort':\n",
    "            primary.sort()\n",
    "        elif word == 'pop':\n",
    "            primary.pop()\n",
    "        elif word == 'reverse':\n",
    "            primary.reverse()"
   ]
  },
  {
   "cell_type": "code",
   "execution_count": 4,
   "id": "4cd0ff64",
   "metadata": {},
   "outputs": [
    {
     "name": "stdout",
     "output_type": "stream",
     "text": [
      "2\n",
      "1 2\n",
      "4979991927620995026\n"
     ]
    }
   ],
   "source": [
    "if __name__ == '__main__':\n",
    "    n = int(input())\n",
    "    integer_list = (map(int, input().split(' ')),)\n",
    "    print(hash(integer_list))"
   ]
  },
  {
   "cell_type": "code",
   "execution_count": 3,
   "id": "063fe1af",
   "metadata": {},
   "outputs": [
    {
     "name": "stdout",
     "output_type": "stream",
     "text": [
      "100,000,000.000\n",
      "100\n",
      "000\n",
      "000\n",
      "000\n"
     ]
    }
   ],
   "source": [
    "regex_pattern = r\"[.,]\"\n",
    "import re\n",
    "print(\"\\n\".join(re.split(regex_pattern, input())))"
   ]
  },
  {
   "cell_type": "code",
   "execution_count": 69,
   "id": "8b21445e",
   "metadata": {},
   "outputs": [
    {
     "data": {
      "text/plain": [
       "{'protocol': 'https://',\n",
       " 'subdomain': 'www',\n",
       " 'domain': 'w3schools',\n",
       " 'topleveldomain': 'com',\n",
       " 'path': 'python/regex',\n",
       " 'extension': '.asp',\n",
       " 'variable': 'test',\n",
       " 'value': '1'}"
      ]
     },
     "execution_count": 69,
     "metadata": {},
     "output_type": "execute_result"
    }
   ],
   "source": [
    "import re\n",
    "m = re.match(r'(?P<protocol>\\w*://)(?P<subdomain>\\w*)(\\.*)(?P<domain>\\w+)\\.(?P<topleveldomain>\\w+)(\\/*)(?P<path>(\\w+\\/\\w+)*)(?P<extension>\\.*\\w*)\\?*(?P<variable>\\w*)=(?P<value>\\w*)', 'https://www.w3schools.com/python/regex.asp?test=1')\n",
    "m.groupdict()"
   ]
  },
  {
   "cell_type": "code",
   "execution_count": 118,
   "id": "7230484e",
   "metadata": {},
   "outputs": [
    {
     "name": "stdout",
     "output_type": "stream",
     "text": [
      "__commit__\n",
      "m\n"
     ]
    }
   ],
   "source": [
    "import re\n",
    "m = re.findall(r'([A-Za-z0-9]+)\\1+', str(input()))\n",
    "print(m[0] if len(m) else -1)"
   ]
  },
  {
   "cell_type": "code",
   "execution_count": 8,
   "id": "1663ffba",
   "metadata": {},
   "outputs": [
    {
     "name": "stdout",
     "output_type": "stream",
     "text": [
      "abaabaabaabaae\n",
      "[('b', 'aa', 'b'), ('b', 'aa', 'b')]\n"
     ]
    }
   ],
   "source": [
    "import re\n",
    "m = re.findall(r'([^aAeEiIoOuU]+)([aAeEiIoOuU]+[aAeEiIoOuU]+)([^aAeEiIoOuU]+)\\2*', str(input()))\n",
    "print(m)\n",
    "# print(\"\\n\".join(m) if len(m) else -1 )"
   ]
  },
  {
   "cell_type": "code",
   "execution_count": 14,
   "id": "8d479d63",
   "metadata": {},
   "outputs": [
    {
     "name": "stdout",
     "output_type": "stream",
     "text": [
      "HackerRank.com presents \"Pythonist 2\".\n",
      "hACKERrANK.COM PRESENTS \"pYTHONIST 2\".\n"
     ]
    }
   ],
   "source": [
    "import re\n",
    "def swap_case(s):\n",
    "    temp = ''\n",
    "    for i in s:\n",
    "        if i.islower():\n",
    "            i = i.upper()\n",
    "        else:\n",
    "            i = i.lower()\n",
    "        temp = temp + i\n",
    "    return temp\n",
    "\n",
    "if __name__ == '__main__':\n",
    "    s = input()\n",
    "    result = swap_case(s)\n",
    "    print(result)"
   ]
  },
  {
   "cell_type": "code",
   "execution_count": 16,
   "id": "53972634",
   "metadata": {},
   "outputs": [
    {
     "name": "stdout",
     "output_type": "stream",
     "text": [
      "32d\n",
      "23d\n",
      "Hello 32d 23d! You just delved into python.\n"
     ]
    }
   ],
   "source": [
    "def print_full_name(first, last):\n",
    "    print(f\"Hello {first} {last}! You just delved into python.\")\n",
    "\n",
    "if __name__ == '__main__':\n",
    "    first_name = input()\n",
    "    last_name = input()\n",
    "    print_full_name(first_name, last_name)"
   ]
  },
  {
   "cell_type": "code",
   "execution_count": 9,
   "id": "e0774a53",
   "metadata": {},
   "outputs": [
    {
     "name": "stdout",
     "output_type": "stream",
     "text": [
      "BANANA\n",
      "Stuart  12\n"
     ]
    }
   ],
   "source": [
    "def minion_game(string):\n",
    "    vowels = ['a','e','i','o','u']\n",
    "    kevin = 0\n",
    "    stuart = 0\n",
    "    count = len(string)\n",
    "    for i, v in enumerate(string):\n",
    "        if vowels.count(v.lower()):\n",
    "            kevin = kevin + count - i\n",
    "        else:\n",
    "            stuart = stuart + count - i\n",
    "    if stuart > kevin:\n",
    "        print('Stuart', stuart)\n",
    "    elif stuart == kevin:\n",
    "        print('Draw')\n",
    "    else:\n",
    "        print('Kevin', kevin)\n",
    "if __name__ == '__main__':\n",
    "    s = input()\n",
    "    minion_game(s)"
   ]
  },
  {
   "cell_type": "code",
   "execution_count": 12,
   "id": "cde8f6b3",
   "metadata": {
    "scrolled": true
   },
   "outputs": [
    {
     "name": "stdout",
     "output_type": "stream",
     "text": [
      "3 1000\n",
      "2 46 2\n",
      "4 7 12 5 37\n",
      "3 2 8 6\n",
      "[4, 2116]\n",
      "[25, 49, 144, 1369]\n",
      "[4, 36, 64]\n",
      "[0, 0, 0]\n",
      "0\n"
     ]
    }
   ],
   "source": [
    "# Enter your code here. Read input from STDIN. Print output to STDOUT\n",
    "def find_last_max(array, max_value):\n",
    "    last_max = float('-inf')\n",
    "    last_min = float('-inf')\n",
    "    for i in array:\n",
    "        if (last_max == float('-inf') or last_max < i) and i < max_value:\n",
    "            last_max = i\n",
    "        if (last_min == float('-inf') or last_min > i) and i > max_value:\n",
    "            last_min = i\n",
    "    return_value = last_max if last_max != float('-inf')  else last_min\n",
    "    return return_value\n",
    "        \n",
    "if __name__ == '__main__':\n",
    "    k, m = map(int, (input()).split())\n",
    "    choices = list()\n",
    "    numbers = list()\n",
    "    for i in range(k):\n",
    "        l = list(map(lambda x: int(x)**2, (input()).split()))\n",
    "        n = l.pop(0)\n",
    "        choices.append(l)\n",
    "    for a in choices:\n",
    "        a.sort()\n",
    "        numbers.append( find_last_max(a, m) )\n",
    "    numbers = sum(numbers) % m\n",
    "    print(numbers)\n"
   ]
  },
  {
   "cell_type": "code",
   "execution_count": null,
   "id": "0144d142",
   "metadata": {},
   "outputs": [],
   "source": [
    "def find_last_max(a, m):\n",
    "    last_max = float('-inf')\n",
    "    i = len(a)-1\n",
    "    while ( last_max > m or last_max == float('-inf') )and i > 0:\n",
    "        if (a[i] < m and a[i] > last_max) or last_max == float('-inf'):\n",
    "            last_max = a[i]\n",
    "        i = i - 1\n",
    "    return last_max if last_max != float('-inf') else a[len(a)-1]\n",
    "        \n",
    "if __name__ == '__main__':\n",
    "    k, m = map(int, (input()).split())\n",
    "    choices = list()\n",
    "    numbers = list()\n",
    "    for i in range(k):\n",
    "        l = list(map(lambda x: int(x)**2, (input()).split()))\n",
    "        n = l.pop(0)\n",
    "        choices.append(l)\n",
    "    \n",
    "    for a in choices:\n",
    "        a.sort()\n",
    "        picked_one = find_last_max(a, m)\n",
    "        if picked_one + sum(numbers) > m:\n",
    "            index = a.index(picked_one)\n",
    "            if index > 0:\n",
    "                picked_one = a[index] \n",
    "        numbers.append(picked_one)\n",
    "    numbers = sum(numbers) % m\n",
    "    print(numbers)\n"
   ]
  },
  {
   "cell_type": "code",
   "execution_count": null,
   "id": "aab82c4b",
   "metadata": {},
   "outputs": [],
   "source": [
    "6 767\n",
    "2 488512261 423332742\n",
    "2 625040505 443232774\n",
    "1 4553600\n",
    "4 92134264 617699202 124100179 337650738\n",
    "2 778493847 932097163\n",
    "5 489894997 496724555 693361712 935903331 518538304\n"
   ]
  },
  {
   "cell_type": "code",
   "execution_count": null,
   "id": "53e0e628",
   "metadata": {},
   "outputs": [],
   "source": [
    "from itertools import combinations\n",
    "string, count = input().split(\"\")\n",
    "\n",
    "for j in range(1, int(count)+1):\n",
    "    for m in (combinations(sorted(string), j)):\n",
    "        print(''.join(m))\n"
   ]
  },
  {
   "cell_type": "code",
   "execution_count": 12,
   "id": "8970aab9",
   "metadata": {},
   "outputs": [
    {
     "name": "stdout",
     "output_type": "stream",
     "text": [
      "11222311\n"
     ]
    },
    {
     "ename": "TypeError",
     "evalue": "cannot convert dictionary update sequence element #0 to a sequence",
     "output_type": "error",
     "traceback": [
      "\u001b[1;31m---------------------------------------------------------------------------\u001b[0m",
      "\u001b[1;31mTypeError\u001b[0m                                 Traceback (most recent call last)",
      "\u001b[1;32m~\\AppData\\Local\\Temp\\ipykernel_22592\\153133345.py\u001b[0m in \u001b[0;36m<module>\u001b[1;34m\u001b[0m\n\u001b[0;32m      2\u001b[0m \u001b[1;32mfrom\u001b[0m \u001b[0mitertools\u001b[0m \u001b[1;32mimport\u001b[0m \u001b[0mgroupby\u001b[0m\u001b[1;33m\u001b[0m\u001b[1;33m\u001b[0m\u001b[0m\n\u001b[0;32m      3\u001b[0m \u001b[1;32mif\u001b[0m \u001b[0m__name__\u001b[0m \u001b[1;33m==\u001b[0m \u001b[1;34m'__main__'\u001b[0m\u001b[1;33m:\u001b[0m\u001b[1;33m\u001b[0m\u001b[1;33m\u001b[0m\u001b[0m\n\u001b[1;32m----> 4\u001b[1;33m     \u001b[0mnum\u001b[0m \u001b[1;33m=\u001b[0m \u001b[0mdict\u001b[0m\u001b[1;33m(\u001b[0m\u001b[0mmap\u001b[0m\u001b[1;33m(\u001b[0m\u001b[0mint\u001b[0m\u001b[1;33m,\u001b[0m \u001b[0minput\u001b[0m\u001b[1;33m(\u001b[0m\u001b[1;33m)\u001b[0m\u001b[1;33m)\u001b[0m\u001b[1;33m)\u001b[0m\u001b[1;33m\u001b[0m\u001b[1;33m\u001b[0m\u001b[0m\n\u001b[0m\u001b[0;32m      5\u001b[0m     \u001b[0mprint\u001b[0m\u001b[1;33m(\u001b[0m\u001b[0mnum\u001b[0m\u001b[1;33m)\u001b[0m\u001b[1;33m\u001b[0m\u001b[1;33m\u001b[0m\u001b[0m\n\u001b[0;32m      6\u001b[0m \u001b[1;31m#     for k,v in groupby(num, lambda x:x[0]):\u001b[0m\u001b[1;33m\u001b[0m\u001b[1;33m\u001b[0m\u001b[0m\n",
      "\u001b[1;31mTypeError\u001b[0m: cannot convert dictionary update sequence element #0 to a sequence"
     ]
    }
   ],
   "source": [
    "# Enter your code here. Read input from STDIN. Print output to STDOUT\n",
    "from itertools import groupby\n",
    "if __name__ == '__main__':\n",
    "    num = dict(map(int, input()))\n",
    "    print(num)\n",
    "#     for k,v in groupby(num, lambda x:x[0]):\n",
    "#         print(v,list(k))\n",
    "    "
   ]
  },
  {
   "cell_type": "code",
   "execution_count": null,
   "id": "54004a8b",
   "metadata": {},
   "outputs": [],
   "source": []
  },
  {
   "cell_type": "code",
   "execution_count": null,
   "id": "c804d6da",
   "metadata": {},
   "outputs": [],
   "source": []
  },
  {
   "cell_type": "code",
   "execution_count": 8,
   "id": "2d38a225",
   "metadata": {},
   "outputs": [
    {
     "name": "stdout",
     "output_type": "stream",
     "text": [
      "abcabacacab\n",
      "ab\n",
      "3\n"
     ]
    }
   ],
   "source": [
    "c = 0\n",
    "def count_substring(string, sub_string):\n",
    "    global c  \n",
    "    if(string.find(sub_string) != -1):\n",
    "        c = c +1\n",
    "        count_substring(string[string.find(sub_string)+1:],sub_string)\n",
    "    return c\n",
    "    \n",
    "if __name__ == '__main__':\n",
    "    string = input().strip()\n",
    "    sub_string = input().strip()\n",
    "    \n",
    "    count = count_substring(string, sub_string)\n",
    "    print(count)"
   ]
  },
  {
   "cell_type": "code",
   "execution_count": 39,
   "id": "43e59ecb",
   "metadata": {},
   "outputs": [
    {
     "name": "stdout",
     "output_type": "stream",
     "text": [
      "5\n",
      "    S    \n",
      "   SSS   \n",
      "  SSSSS  \n",
      " SSSSSSS \n",
      "SSSSSSSSS\n",
      "  SSSSS               SSSSS             \n",
      "  SSSSS               SSSSS             \n",
      "  SSSSS               SSSSS             \n",
      "  SSSSS               SSSSS             \n",
      "  SSSSS               SSSSS             \n",
      "  SSSSS               SSSSS             \n",
      "  SSSSSSSSSSSSSSSSSSSSSSSSS   \n",
      "  SSSSSSSSSSSSSSSSSSSSSSSSS   \n",
      "  SSSSSSSSSSSSSSSSSSSSSSSSS   \n",
      "  SSSSS               SSSSS             \n",
      "  SSSSS               SSSSS             \n",
      "  SSSSS               SSSSS             \n",
      "  SSSSS               SSSSS             \n",
      "  SSSSS               SSSSS             \n",
      "  SSSSS               SSSSS             \n",
      "                    SSSSSSSSS \n",
      "                     SSSSSSS  \n",
      "                      SSSSS   \n",
      "                       SSS    \n",
      "                        S     \n"
     ]
    }
   ],
   "source": [
    "#Replace all ______ with rjust, ljust or center. \n",
    "\n",
    "thickness = int(input())\n",
    "#  #This must be an odd number\n",
    "c = 'S'\n",
    "\n",
    "#Top Cone\n",
    "for i in range(thickness):\n",
    "    print((c*i).rjust(thickness-1)+c+(c*i).ljust(thickness-1))\n",
    "\n",
    "#Top Pillars\n",
    "for i in range(thickness+1):\n",
    "    print((c*thickness).center(thickness*2)+(c*thickness).center(thickness*6))\n",
    "\n",
    "#Middle Belt\n",
    "for i in range((thickness+1)//2):\n",
    "    print((c*thickness*5).center(thickness*6))    \n",
    "\n",
    "#Bottom Pillars\n",
    "for i in range(thickness+1):\n",
    "    print((c*thickness).center(thickness*2)+(c*thickness).center(thickness*6))    \n",
    "\n",
    "#Bottom Cone\n",
    "for i in range(thickness):\n",
    "    print(((c*(thickness-i-1)).rjust(thickness)+c+(c*(thickness-i-1)).ljust(thickness)).rjust(thickness*6))"
   ]
  },
  {
   "cell_type": "code",
   "execution_count": null,
   "id": "f185aeb2",
   "metadata": {},
   "outputs": [],
   "source": [
    "import textwrap\n",
    "\n",
    "def wrap(string, max_width):\n",
    "    wrapper = textwrap.TextWrapper(width=max_width)\n",
    "    s = wrapper.fill(text=string)\n",
    "    return s\n",
    "\n",
    "if __name__ == '__main__':\n",
    "    string, max_width = input(), int(input())\n",
    "    result = wrap(string, max_width)\n",
    "    print(result)"
   ]
  },
  {
   "cell_type": "code",
   "execution_count": 6,
   "id": "9c24b7dc",
   "metadata": {},
   "outputs": [
    {
     "name": "stdout",
     "output_type": "stream",
     "text": [
      "9 27\n"
     ]
    },
    {
     "ename": "TypeError",
     "evalue": "'float' object cannot be interpreted as an integer",
     "output_type": "error",
     "traceback": [
      "\u001b[1;31m---------------------------------------------------------------------------\u001b[0m",
      "\u001b[1;31mTypeError\u001b[0m                                 Traceback (most recent call last)",
      "\u001b[1;32m~\\AppData\\Local\\Temp\\ipykernel_16252\\2690025685.py\u001b[0m in \u001b[0;36m<module>\u001b[1;34m\u001b[0m\n\u001b[0;32m      4\u001b[0m     \u001b[0mn\u001b[0m \u001b[1;33m=\u001b[0m \u001b[0mint\u001b[0m\u001b[1;33m(\u001b[0m\u001b[0mn\u001b[0m\u001b[1;33m)\u001b[0m\u001b[1;33m\u001b[0m\u001b[1;33m\u001b[0m\u001b[0m\n\u001b[0;32m      5\u001b[0m     \u001b[0ms\u001b[0m \u001b[1;33m=\u001b[0m \u001b[1;34m'.|.'\u001b[0m\u001b[1;33m\u001b[0m\u001b[1;33m\u001b[0m\u001b[0m\n\u001b[1;32m----> 6\u001b[1;33m     \u001b[1;32mfor\u001b[0m \u001b[0mi\u001b[0m \u001b[1;32min\u001b[0m \u001b[0mrange\u001b[0m\u001b[1;33m(\u001b[0m\u001b[1;36m1\u001b[0m\u001b[1;33m,\u001b[0m \u001b[1;33m(\u001b[0m\u001b[1;33m(\u001b[0m\u001b[0mn\u001b[0m\u001b[1;33m-\u001b[0m\u001b[1;36m1\u001b[0m\u001b[1;33m)\u001b[0m\u001b[1;33m/\u001b[0m\u001b[1;36m2\u001b[0m\u001b[1;33m)\u001b[0m\u001b[1;33m+\u001b[0m\u001b[1;36m1\u001b[0m \u001b[1;33m)\u001b[0m\u001b[1;33m:\u001b[0m\u001b[1;33m\u001b[0m\u001b[1;33m\u001b[0m\u001b[0m\n\u001b[0m\u001b[0;32m      7\u001b[0m         \u001b[0mprint\u001b[0m\u001b[1;33m(\u001b[0m\u001b[0mi\u001b[0m\u001b[1;33m)\u001b[0m\u001b[1;33m\u001b[0m\u001b[1;33m\u001b[0m\u001b[0m\n\u001b[0;32m      8\u001b[0m         \u001b[0mt\u001b[0m \u001b[1;33m=\u001b[0m \u001b[0mi\u001b[0m\u001b[1;33m-\u001b[0m\u001b[1;36m1\u001b[0m \u001b[1;32mif\u001b[0m \u001b[0mi\u001b[0m \u001b[1;33m%\u001b[0m \u001b[1;36m2\u001b[0m \u001b[1;33m==\u001b[0m \u001b[1;36m0\u001b[0m \u001b[1;32melse\u001b[0m \u001b[0mi\u001b[0m\u001b[1;33m\u001b[0m\u001b[1;33m\u001b[0m\u001b[0m\n",
      "\u001b[1;31mTypeError\u001b[0m: 'float' object cannot be interpreted as an integer"
     ]
    }
   ],
   "source": [
    "# Enter your code here. Read input from STDIN. Print output to STDOUT\n",
    "if __name__ == '__main__':\n",
    "    n, m = input().split()\n",
    "    n = int(n)\n",
    "    s = '.|.'\n",
    "    \n",
    "    #top bars\n",
    "    for i in range(1, floor(n/2)):\n",
    "    #middle layer\n",
    "    #bottom bars\n",
    "    \n",
    "    for i in range(1, ((n-1)/2)+1 ):\n",
    "        print(i)\n",
    "        t = i-1 if i % 2 == 0 else i\n",
    "        print( (s * (i-1) ).center( t ))"
   ]
  },
  {
   "cell_type": "code",
   "execution_count": null,
   "id": "96363ab5",
   "metadata": {},
   "outputs": [],
   "source": []
  }
 ],
 "metadata": {
  "kernelspec": {
   "display_name": "Python 3 (ipykernel)",
   "language": "python",
   "name": "python3"
  },
  "language_info": {
   "codemirror_mode": {
    "name": "ipython",
    "version": 3
   },
   "file_extension": ".py",
   "mimetype": "text/x-python",
   "name": "python",
   "nbconvert_exporter": "python",
   "pygments_lexer": "ipython3",
   "version": "3.9.15"
  }
 },
 "nbformat": 4,
 "nbformat_minor": 5
}
