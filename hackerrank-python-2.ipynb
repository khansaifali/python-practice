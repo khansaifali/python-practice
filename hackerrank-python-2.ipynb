{
 "cells": [
  {
   "cell_type": "code",
   "execution_count": 22,
   "id": "91a34dea",
   "metadata": {},
   "outputs": [
    {
     "name": "stdout",
     "output_type": "stream",
     "text": [
      "3 998\n",
      "6 67828645 425092764 242723908 669696211 501122842 438815206\n",
      "4 625649397 295060482 262686951 815352670\n",
      "3 100876777 196900030 523615865\n",
      "563\n"
     ]
    }
   ],
   "source": [
    "def find_last_max(a, m):\n",
    "    last_max = 0\n",
    "    i = len(a)-1\n",
    "    for i in a:\n",
    "        if not last_max:\n",
    "            last_max = i % m\n",
    "        else:\n",
    "            if i % m > last_max:\n",
    "                last_max = i\n",
    "    return last_max\n",
    "#     while ( last_max > m or last_max == float('-inf') )and i > 0:\n",
    "#         if (a[i] < m and a[i] > last_max) or last_max == float('-inf'):\n",
    "#             last_max = a[i]\n",
    "#         i = i - 1\n",
    "#     return last_max if last_max != float('-inf') else a[len(a)-1]\n",
    "        \n",
    "if __name__ == '__main__':\n",
    "    k, m = map(int, (input()).split())\n",
    "    choices = list()\n",
    "    numbers = list()\n",
    "    for i in range(k):\n",
    "        l = list(map(lambda x: int(x)**2, (input()).split()))\n",
    "        n = l.pop(0)\n",
    "        choices.append(l)\n",
    "    \n",
    "    for a in choices:\n",
    "        a.sort()\n",
    "        picked_one = find_last_max(a, m)\n",
    "        if picked_one + sum(numbers) > m:\n",
    "            index = a.index(picked_one)\n",
    "            if index > 0:\n",
    "                picked_one = a[index]\n",
    "        numbers.append(picked_one)\n",
    "    numbers = sum(numbers) % m\n",
    "    print(numbers)\n"
   ]
  },
  {
   "cell_type": "code",
   "execution_count": 2,
   "id": "f1999cfe",
   "metadata": {},
   "outputs": [
    {
     "data": {
      "text/plain": [
       "624"
      ]
     },
     "execution_count": 2,
     "metadata": {},
     "output_type": "execute_result"
    }
   ],
   "source": [
    "# 3 998\n",
    "# 6 67828645 425092764 242723908 669696211 501122842 438815206\n",
    "# 4 625649397 295060482 262686951 815352670\n",
    "# 3 100876777 196900030 523615865\n",
    "\n",
    "# 3 1000\n",
    "# 2 5 4\n",
    "# 3 7 8 9\n",
    "# 5 5 7 8 9 10\n",
    "((669696211**2)+(815352670**2)+(523615865**2))%998"
   ]
  },
  {
   "cell_type": "code",
   "execution_count": 46,
   "id": "667724f3",
   "metadata": {},
   "outputs": [
    {
     "name": "stdout",
     "output_type": "stream",
     "text": [
      "aaabcadde\n",
      "3\n",
      "['a', 'bca', 'de']\n"
     ]
    }
   ],
   "source": [
    "from collections import OrderedDict\n",
    "#Merge the tools - String\n",
    "def merge_the_tools(string, k):\n",
    "    n = len(string)\n",
    "    c = 0\n",
    "    i = 0;\n",
    "    ts = list()\n",
    "    while (1):\n",
    "        c = (k * i)\n",
    "        if c > n:\n",
    "            break\n",
    "        st = string[c : c + k]\n",
    "        st = ''.join( OrderedDict.fromkeys(st) )\n",
    "        if st != '':\n",
    "            ts.append(st)\n",
    "        i += 1\n",
    "                \n",
    "    print(ts)\n",
    "if __name__ == '__main__':\n",
    "    string, k = input(), int(input())\n",
    "    merge_the_tools(string, k)"
   ]
  },
  {
   "cell_type": "code",
   "execution_count": null,
   "id": "15c3fbff",
   "metadata": {},
   "outputs": [],
   "source": [
    "#!/bin/python3\n",
    "\n",
    "import math\n",
    "import os\n",
    "import random\n",
    "import re\n",
    "import sys\n",
    "\n",
    "first_multiple_input = input().rstrip().split()\n",
    "\n",
    "n = int(first_multiple_input[0])\n",
    "\n",
    "m = int(first_multiple_input[1])\n",
    "\n",
    "matrix = []\n",
    "\n",
    "for _ in range(n):\n",
    "    matrix_item = input()\n",
    "    matrix.append(list(matrix_item))\n",
    "\n",
    "print(matrix)\n",
    "found = ''\n",
    "for i in range(0, m):\n",
    "    for j in range(0, n):\n",
    "        c = matrix[j][i]\n",
    "        found = found + c\n",
    "\n",
    "decoded = re.sub('(?<=\\w)[^\\w]+?(?=\\w)', ' ', found)\n",
    "print(decoded)\n"
   ]
  },
  {
   "cell_type": "code",
   "execution_count": 77,
   "id": "9afae09c",
   "metadata": {},
   "outputs": [
    {
     "ename": "SyntaxError",
     "evalue": "invalid syntax (1415799820.py, line 1)",
     "output_type": "error",
     "traceback": [
      "\u001b[1;36m  File \u001b[1;32m\"C:\\Users\\saksp\\AppData\\Local\\Temp\\ipykernel_20432\\1415799820.py\"\u001b[1;36m, line \u001b[1;32m1\u001b[0m\n\u001b[1;33m    7 3\u001b[0m\n\u001b[1;37m      ^\u001b[0m\n\u001b[1;31mSyntaxError\u001b[0m\u001b[1;31m:\u001b[0m invalid syntax\n"
     ]
    }
   ],
   "source": [
    "7 3\n",
    "Tsi\n",
    "h%x\n",
    "i #\n",
    "sM\n",
    "$a\n",
    "$t%\n",
    "ir!"
   ]
  },
  {
   "cell_type": "code",
   "execution_count": 96,
   "id": "bfc255a0",
   "metadata": {},
   "outputs": [
    {
     "name": "stdout",
     "output_type": "stream",
     "text": [
      "This$$is% Matrix#  %!\n",
      "\n",
      "This is Matrix#  %!\n"
     ]
    }
   ],
   "source": [
    "import re\n",
    "x = 'This$$is% Matrix#  %!'\n",
    "print(x)\n",
    "print()\n",
    "t = re.sub('(?<=\\w)[^\\w]+?(?=\\w)', ' ', x)\n",
    "print(t)"
   ]
  }
 ],
 "metadata": {
  "kernelspec": {
   "display_name": "Python 3 (ipykernel)",
   "language": "python",
   "name": "python3"
  },
  "language_info": {
   "codemirror_mode": {
    "name": "ipython",
    "version": 3
   },
   "file_extension": ".py",
   "mimetype": "text/x-python",
   "name": "python",
   "nbconvert_exporter": "python",
   "pygments_lexer": "ipython3",
   "version": "3.9.15"
  }
 },
 "nbformat": 4,
 "nbformat_minor": 5
}
