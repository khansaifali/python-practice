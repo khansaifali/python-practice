{
 "cells": [
  {
   "cell_type": "code",
   "execution_count": null,
   "id": "706f340c",
   "metadata": {},
   "outputs": [],
   "source": [
    "if __name__ == '__main__':\n",
    "    a, b = input().split()\n",
    "    a = int(a)\n",
    "    for i in range(10**(a-1), (10**(a))):\n",
    "        for j in range( i+1, (10**(a))):\n",
    "            if j > 10**a:\n",
    "                break\n",
    "            if i < j and (i%10 !=0 and j%10 != 0):\n",
    "                print(i, j)\n",
    "                \n",
    "                "
   ]
  },
  {
   "cell_type": "code",
   "execution_count": null,
   "id": "6eb1e464",
   "metadata": {},
   "outputs": [],
   "source": [
    "from itertools import permutations\n",
    "if __name__ == '__main__':\n",
    "#     a, b = input().split()\n",
    "    a = int(input())\n",
    "    array = list(range(10**(a-1), (10**(a))))\n",
    "    for i in permutations(array, 2):\n",
    "        print(list(i))"
   ]
  },
  {
   "cell_type": "code",
   "execution_count": null,
   "id": "8e961311",
   "metadata": {},
   "outputs": [],
   "source": []
  },
  {
   "cell_type": "code",
   "execution_count": 1,
   "id": "8b0dddbf",
   "metadata": {},
   "outputs": [
    {
     "name": "stdout",
     "output_type": "stream",
     "text": [
      "2\n",
      "10\n",
      "100\n",
      "[3, 5, 6, 9, 10, 12, 15, 18, 20, 21, 24, 25, 27, 30, 33, 35, 36, 39, 40, 42, 45, 48, 50, 51, 54, 55, 57, 60, 63, 65, 66, 69, 70, 72, 75, 78, 80, 81, 84, 85, 87, 90, 93, 95, 96, 99]\n",
      "23\n",
      "2318\n"
     ]
    }
   ],
   "source": [
    "if __name__ == '__main__':\n",
    "    t = int(input().strip())\n",
    "    a = []\n",
    "    inp = []\n",
    "    max_inp = 0\n",
    "    for t_itr in range(t):\n",
    "        n = int(input())\n",
    "        if n > max_inp:\n",
    "            max_inp = n\n",
    "        inp.append(n)\n",
    "    \n",
    "    a = [p for p in range(1, max_inp) if( not p % 3 or not p % 5 ) ]\n",
    "    \n",
    "    for n in inp:\n",
    "        temp = []\n",
    "        add = 0\n",
    "        for i in a:\n",
    "            if i >= n:\n",
    "                break\n",
    "            temp.append(i)\n",
    "            add = add + i\n",
    "        print(add)"
   ]
  }
 ],
 "metadata": {
  "kernelspec": {
   "display_name": "Python 3 (ipykernel)",
   "language": "python",
   "name": "python3"
  },
  "language_info": {
   "codemirror_mode": {
    "name": "ipython",
    "version": 3
   },
   "file_extension": ".py",
   "mimetype": "text/x-python",
   "name": "python",
   "nbconvert_exporter": "python",
   "pygments_lexer": "ipython3",
   "version": "3.9.15"
  }
 },
 "nbformat": 4,
 "nbformat_minor": 5
}
