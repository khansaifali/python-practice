{
 "cells": [
  {
   "cell_type": "code",
   "execution_count": 5,
   "id": "d0e34c02",
   "metadata": {},
   "outputs": [
    {
     "name": "stdout",
     "output_type": "stream",
     "text": [
      "( a(b) (c) (d(e(f)g)h) I (j(k)l)m)\n",
      "Valid\n",
      "Max Depth - 4\n"
     ]
    }
   ],
   "source": [
    "# validate given set of opening-closing paranthesis e.g. ({({[]})}) or () or {()} or [({})]\n",
    "\n",
    "s = str(input())\n",
    "if len(s) % 2 != 0:\n",
    "    print('Invalid')\n",
    "else:\n",
    "    temp = list()\n",
    "    max_depth = 0\n",
    "    current_depth = 0\n",
    "    for k,v in enumerate(s):\n",
    "        if v == '(' or v == '[' or v == '{':\n",
    "            current_depth = current_depth + 1\n",
    "            temp.append(v)\n",
    "        elif (v == ')' and temp[len(temp)-1] == '(') or (v == ']' and temp[len(temp)-1] == '{') or (v == '}' and temp[len(temp)-1] == '{'):\n",
    "            if current_depth > max_depth:\n",
    "                max_depth = current_depth\n",
    "                current_depth = 0\n",
    "            temp.pop()\n",
    "    if len(temp):\n",
    "        print('Invalid')\n",
    "    else:\n",
    "        print('Valid')\n",
    "    print('Max Depth -',max_depth)\n",
    "            \n"
   ]
  },
  {
   "cell_type": "code",
   "execution_count": null,
   "id": "3f6ce59c",
   "metadata": {},
   "outputs": [],
   "source": []
  }
 ],
 "metadata": {
  "kernelspec": {
   "display_name": "Python 3 (ipykernel)",
   "language": "python",
   "name": "python3"
  },
  "language_info": {
   "codemirror_mode": {
    "name": "ipython",
    "version": 3
   },
   "file_extension": ".py",
   "mimetype": "text/x-python",
   "name": "python",
   "nbconvert_exporter": "python",
   "pygments_lexer": "ipython3",
   "version": "3.9.15"
  }
 },
 "nbformat": 4,
 "nbformat_minor": 5
}
