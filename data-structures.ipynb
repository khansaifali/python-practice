{
 "cells": [
  {
   "cell_type": "code",
   "execution_count": 20,
   "id": "d1125707",
   "metadata": {},
   "outputs": [
    {
     "name": "stdout",
     "output_type": "stream",
     "text": [
      "[10, 30, 40, 50, 70, 80, 90]\n"
     ]
    }
   ],
   "source": [
    "class Sort:\n",
    "    def partition(self, array, low, high):\n",
    "        pivot = array[high]\n",
    "        i = low - 1\n",
    "        for j in range(low, high):\n",
    "            if array[j] <= pivot:\n",
    "                i = i + 1\n",
    "                (array[i], array[j]) = (array[j], array[i])\n",
    "        (array[i + 1], array[high]) = (array[high], array[i + 1])\n",
    "        return i + 1\n",
    "\n",
    "    def quicksort(self, array, low, high):\n",
    "        if low < high:\n",
    "            pi = self.partition(array, low, high)\n",
    "            self.quicksort(array, low, pi - 1)\n",
    "            self.quicksort(array, pi + 1, high)\n",
    "            \n",
    "n = [10,80,30,90,40,50,70]\n",
    "r = Sort()\n",
    "N = len(n)\n",
    "r.quicksort(n, 0, N - 1)\n",
    "print(n)"
   ]
  }
 ],
 "metadata": {
  "kernelspec": {
   "display_name": "Python 3 (ipykernel)",
   "language": "python",
   "name": "python3"
  },
  "language_info": {
   "codemirror_mode": {
    "name": "ipython",
    "version": 3
   },
   "file_extension": ".py",
   "mimetype": "text/x-python",
   "name": "python",
   "nbconvert_exporter": "python",
   "pygments_lexer": "ipython3",
   "version": "3.9.15"
  }
 },
 "nbformat": 4,
 "nbformat_minor": 5
}
